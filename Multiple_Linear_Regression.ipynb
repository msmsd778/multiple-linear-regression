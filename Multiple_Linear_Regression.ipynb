{
  "nbformat": 4,
  "nbformat_minor": 0,
  "metadata": {
    "colab": {
      "name": "Multiple Linear Regression.ipynb",
      "provenance": [],
      "authorship_tag": "ABX9TyOzaSdrGjsTti9mdB5n2Z6y",
      "include_colab_link": true
    },
    "kernelspec": {
      "name": "python3",
      "display_name": "Python 3"
    },
    "language_info": {
      "name": "python"
    }
  },
  "cells": [
    {
      "cell_type": "markdown",
      "metadata": {
        "id": "view-in-github",
        "colab_type": "text"
      },
      "source": [
        "<a href=\"https://colab.research.google.com/github/msmsd778/multiple-linear-regression/blob/main/Multiple_Linear_Regression.ipynb\" target=\"_parent\"><img src=\"https://colab.research.google.com/assets/colab-badge.svg\" alt=\"Open In Colab\"/></a>"
      ]
    },
    {
      "cell_type": "markdown",
      "metadata": {
        "id": "fdSdPaw1QnSq"
      },
      "source": [
        "# Importing Needed packages"
      ]
    },
    {
      "cell_type": "code",
      "metadata": {
        "id": "-FW7NCtnQfky"
      },
      "source": [
        "import numpy as np\n",
        "import matplotlib.pyplot as plt\n",
        "import pandas as pd\n",
        "import pylab as pl\n",
        "%matplotlib inline"
      ],
      "execution_count": 1,
      "outputs": []
    },
    {
      "cell_type": "markdown",
      "metadata": {
        "id": "SH5iCU0jRKrq"
      },
      "source": [
        "# Downloading Data"
      ]
    },
    {
      "cell_type": "code",
      "metadata": {
        "colab": {
          "base_uri": "https://localhost:8080/"
        },
        "id": "7rrNEuxhRMDR",
        "outputId": "5fe8735e-90de-4c8a-96ce-63f80fe46712"
      },
      "source": [
        "!wget -O FuelConsumption.csv https://cf-courses-data.s3.us.cloud-object-storage.appdomain.cloud/IBMDeveloperSkillsNetwork-ML0101EN-SkillsNetwork/labs/Module%202/data/FuelConsumptionCo2.csv"
      ],
      "execution_count": 4,
      "outputs": [
        {
          "output_type": "stream",
          "text": [
            "--2021-07-31 20:35:54--  https://cf-courses-data.s3.us.cloud-object-storage.appdomain.cloud/IBMDeveloperSkillsNetwork-ML0101EN-SkillsNetwork/labs/Module%202/data/FuelConsumptionCo2.csv\n",
            "Resolving cf-courses-data.s3.us.cloud-object-storage.appdomain.cloud (cf-courses-data.s3.us.cloud-object-storage.appdomain.cloud)... 198.23.119.245\n",
            "Connecting to cf-courses-data.s3.us.cloud-object-storage.appdomain.cloud (cf-courses-data.s3.us.cloud-object-storage.appdomain.cloud)|198.23.119.245|:443... connected.\n",
            "HTTP request sent, awaiting response... 200 OK\n",
            "Length: 72629 (71K) [text/csv]\n",
            "Saving to: ‘FuelConsumption.csv’\n",
            "\n",
            "FuelConsumption.csv 100%[===================>]  70.93K  --.-KB/s    in 0.05s   \n",
            "\n",
            "2021-07-31 20:35:54 (1.40 MB/s) - ‘FuelConsumption.csv’ saved [72629/72629]\n",
            "\n"
          ],
          "name": "stdout"
        }
      ]
    },
    {
      "cell_type": "markdown",
      "metadata": {
        "id": "wQJNAlmpRbTq"
      },
      "source": [
        "# Reading the data in"
      ]
    },
    {
      "cell_type": "code",
      "metadata": {
        "colab": {
          "base_uri": "https://localhost:8080/",
          "height": 274
        },
        "id": "Ad9HOGoARckK",
        "outputId": "2d297264-079e-47dd-bdc5-07719e0a4644"
      },
      "source": [
        "df = pd.read_csv(\"FuelConsumption.csv\")\n",
        "df.head()"
      ],
      "execution_count": 5,
      "outputs": [
        {
          "output_type": "execute_result",
          "data": {
            "text/html": [
              "<div>\n",
              "<style scoped>\n",
              "    .dataframe tbody tr th:only-of-type {\n",
              "        vertical-align: middle;\n",
              "    }\n",
              "\n",
              "    .dataframe tbody tr th {\n",
              "        vertical-align: top;\n",
              "    }\n",
              "\n",
              "    .dataframe thead th {\n",
              "        text-align: right;\n",
              "    }\n",
              "</style>\n",
              "<table border=\"1\" class=\"dataframe\">\n",
              "  <thead>\n",
              "    <tr style=\"text-align: right;\">\n",
              "      <th></th>\n",
              "      <th>MODELYEAR</th>\n",
              "      <th>MAKE</th>\n",
              "      <th>MODEL</th>\n",
              "      <th>VEHICLECLASS</th>\n",
              "      <th>ENGINESIZE</th>\n",
              "      <th>CYLINDERS</th>\n",
              "      <th>TRANSMISSION</th>\n",
              "      <th>FUELTYPE</th>\n",
              "      <th>FUELCONSUMPTION_CITY</th>\n",
              "      <th>FUELCONSUMPTION_HWY</th>\n",
              "      <th>FUELCONSUMPTION_COMB</th>\n",
              "      <th>FUELCONSUMPTION_COMB_MPG</th>\n",
              "      <th>CO2EMISSIONS</th>\n",
              "    </tr>\n",
              "  </thead>\n",
              "  <tbody>\n",
              "    <tr>\n",
              "      <th>0</th>\n",
              "      <td>2014</td>\n",
              "      <td>ACURA</td>\n",
              "      <td>ILX</td>\n",
              "      <td>COMPACT</td>\n",
              "      <td>2.0</td>\n",
              "      <td>4</td>\n",
              "      <td>AS5</td>\n",
              "      <td>Z</td>\n",
              "      <td>9.9</td>\n",
              "      <td>6.7</td>\n",
              "      <td>8.5</td>\n",
              "      <td>33</td>\n",
              "      <td>196</td>\n",
              "    </tr>\n",
              "    <tr>\n",
              "      <th>1</th>\n",
              "      <td>2014</td>\n",
              "      <td>ACURA</td>\n",
              "      <td>ILX</td>\n",
              "      <td>COMPACT</td>\n",
              "      <td>2.4</td>\n",
              "      <td>4</td>\n",
              "      <td>M6</td>\n",
              "      <td>Z</td>\n",
              "      <td>11.2</td>\n",
              "      <td>7.7</td>\n",
              "      <td>9.6</td>\n",
              "      <td>29</td>\n",
              "      <td>221</td>\n",
              "    </tr>\n",
              "    <tr>\n",
              "      <th>2</th>\n",
              "      <td>2014</td>\n",
              "      <td>ACURA</td>\n",
              "      <td>ILX HYBRID</td>\n",
              "      <td>COMPACT</td>\n",
              "      <td>1.5</td>\n",
              "      <td>4</td>\n",
              "      <td>AV7</td>\n",
              "      <td>Z</td>\n",
              "      <td>6.0</td>\n",
              "      <td>5.8</td>\n",
              "      <td>5.9</td>\n",
              "      <td>48</td>\n",
              "      <td>136</td>\n",
              "    </tr>\n",
              "    <tr>\n",
              "      <th>3</th>\n",
              "      <td>2014</td>\n",
              "      <td>ACURA</td>\n",
              "      <td>MDX 4WD</td>\n",
              "      <td>SUV - SMALL</td>\n",
              "      <td>3.5</td>\n",
              "      <td>6</td>\n",
              "      <td>AS6</td>\n",
              "      <td>Z</td>\n",
              "      <td>12.7</td>\n",
              "      <td>9.1</td>\n",
              "      <td>11.1</td>\n",
              "      <td>25</td>\n",
              "      <td>255</td>\n",
              "    </tr>\n",
              "    <tr>\n",
              "      <th>4</th>\n",
              "      <td>2014</td>\n",
              "      <td>ACURA</td>\n",
              "      <td>RDX AWD</td>\n",
              "      <td>SUV - SMALL</td>\n",
              "      <td>3.5</td>\n",
              "      <td>6</td>\n",
              "      <td>AS6</td>\n",
              "      <td>Z</td>\n",
              "      <td>12.1</td>\n",
              "      <td>8.7</td>\n",
              "      <td>10.6</td>\n",
              "      <td>27</td>\n",
              "      <td>244</td>\n",
              "    </tr>\n",
              "  </tbody>\n",
              "</table>\n",
              "</div>"
            ],
            "text/plain": [
              "   MODELYEAR   MAKE  ... FUELCONSUMPTION_COMB_MPG CO2EMISSIONS\n",
              "0       2014  ACURA  ...                       33          196\n",
              "1       2014  ACURA  ...                       29          221\n",
              "2       2014  ACURA  ...                       48          136\n",
              "3       2014  ACURA  ...                       25          255\n",
              "4       2014  ACURA  ...                       27          244\n",
              "\n",
              "[5 rows x 13 columns]"
            ]
          },
          "metadata": {
            "tags": []
          },
          "execution_count": 5
        }
      ]
    },
    {
      "cell_type": "code",
      "metadata": {
        "colab": {
          "base_uri": "https://localhost:8080/",
          "height": 326
        },
        "id": "sGQOEhXYSD56",
        "outputId": "0c3415e0-4282-4797-c966-f42d712930fb"
      },
      "source": [
        "cdf = df[['ENGINESIZE','CYLINDERS','FUELCONSUMPTION_CITY','FUELCONSUMPTION_HWY','FUELCONSUMPTION_COMB','CO2EMISSIONS']]\n",
        "cdf.head(9)"
      ],
      "execution_count": 6,
      "outputs": [
        {
          "output_type": "execute_result",
          "data": {
            "text/html": [
              "<div>\n",
              "<style scoped>\n",
              "    .dataframe tbody tr th:only-of-type {\n",
              "        vertical-align: middle;\n",
              "    }\n",
              "\n",
              "    .dataframe tbody tr th {\n",
              "        vertical-align: top;\n",
              "    }\n",
              "\n",
              "    .dataframe thead th {\n",
              "        text-align: right;\n",
              "    }\n",
              "</style>\n",
              "<table border=\"1\" class=\"dataframe\">\n",
              "  <thead>\n",
              "    <tr style=\"text-align: right;\">\n",
              "      <th></th>\n",
              "      <th>ENGINESIZE</th>\n",
              "      <th>CYLINDERS</th>\n",
              "      <th>FUELCONSUMPTION_CITY</th>\n",
              "      <th>FUELCONSUMPTION_HWY</th>\n",
              "      <th>FUELCONSUMPTION_COMB</th>\n",
              "      <th>CO2EMISSIONS</th>\n",
              "    </tr>\n",
              "  </thead>\n",
              "  <tbody>\n",
              "    <tr>\n",
              "      <th>0</th>\n",
              "      <td>2.0</td>\n",
              "      <td>4</td>\n",
              "      <td>9.9</td>\n",
              "      <td>6.7</td>\n",
              "      <td>8.5</td>\n",
              "      <td>196</td>\n",
              "    </tr>\n",
              "    <tr>\n",
              "      <th>1</th>\n",
              "      <td>2.4</td>\n",
              "      <td>4</td>\n",
              "      <td>11.2</td>\n",
              "      <td>7.7</td>\n",
              "      <td>9.6</td>\n",
              "      <td>221</td>\n",
              "    </tr>\n",
              "    <tr>\n",
              "      <th>2</th>\n",
              "      <td>1.5</td>\n",
              "      <td>4</td>\n",
              "      <td>6.0</td>\n",
              "      <td>5.8</td>\n",
              "      <td>5.9</td>\n",
              "      <td>136</td>\n",
              "    </tr>\n",
              "    <tr>\n",
              "      <th>3</th>\n",
              "      <td>3.5</td>\n",
              "      <td>6</td>\n",
              "      <td>12.7</td>\n",
              "      <td>9.1</td>\n",
              "      <td>11.1</td>\n",
              "      <td>255</td>\n",
              "    </tr>\n",
              "    <tr>\n",
              "      <th>4</th>\n",
              "      <td>3.5</td>\n",
              "      <td>6</td>\n",
              "      <td>12.1</td>\n",
              "      <td>8.7</td>\n",
              "      <td>10.6</td>\n",
              "      <td>244</td>\n",
              "    </tr>\n",
              "    <tr>\n",
              "      <th>5</th>\n",
              "      <td>3.5</td>\n",
              "      <td>6</td>\n",
              "      <td>11.9</td>\n",
              "      <td>7.7</td>\n",
              "      <td>10.0</td>\n",
              "      <td>230</td>\n",
              "    </tr>\n",
              "    <tr>\n",
              "      <th>6</th>\n",
              "      <td>3.5</td>\n",
              "      <td>6</td>\n",
              "      <td>11.8</td>\n",
              "      <td>8.1</td>\n",
              "      <td>10.1</td>\n",
              "      <td>232</td>\n",
              "    </tr>\n",
              "    <tr>\n",
              "      <th>7</th>\n",
              "      <td>3.7</td>\n",
              "      <td>6</td>\n",
              "      <td>12.8</td>\n",
              "      <td>9.0</td>\n",
              "      <td>11.1</td>\n",
              "      <td>255</td>\n",
              "    </tr>\n",
              "    <tr>\n",
              "      <th>8</th>\n",
              "      <td>3.7</td>\n",
              "      <td>6</td>\n",
              "      <td>13.4</td>\n",
              "      <td>9.5</td>\n",
              "      <td>11.6</td>\n",
              "      <td>267</td>\n",
              "    </tr>\n",
              "  </tbody>\n",
              "</table>\n",
              "</div>"
            ],
            "text/plain": [
              "   ENGINESIZE  CYLINDERS  ...  FUELCONSUMPTION_COMB  CO2EMISSIONS\n",
              "0         2.0          4  ...                   8.5           196\n",
              "1         2.4          4  ...                   9.6           221\n",
              "2         1.5          4  ...                   5.9           136\n",
              "3         3.5          6  ...                  11.1           255\n",
              "4         3.5          6  ...                  10.6           244\n",
              "5         3.5          6  ...                  10.0           230\n",
              "6         3.5          6  ...                  10.1           232\n",
              "7         3.7          6  ...                  11.1           255\n",
              "8         3.7          6  ...                  11.6           267\n",
              "\n",
              "[9 rows x 6 columns]"
            ]
          },
          "metadata": {
            "tags": []
          },
          "execution_count": 6
        }
      ]
    },
    {
      "cell_type": "code",
      "metadata": {
        "colab": {
          "base_uri": "https://localhost:8080/",
          "height": 280
        },
        "id": "a7h9q5e3SXQi",
        "outputId": "97d6c7c0-d6a8-43dd-d450-f4bc75886277"
      },
      "source": [
        "plt.scatter(cdf.ENGINESIZE, cdf.CO2EMISSIONS, color='blue')\n",
        "plt.xlabel(\"Engine size\")\n",
        "plt.ylabel(\"Emission\")\n",
        "plt.show()"
      ],
      "execution_count": 7,
      "outputs": [
        {
          "output_type": "display_data",
          "data": {
            "image/png": "[encoded data removed]",
            "text/plain": [
              "<Figure size 432x288 with 1 Axes>"
            ]
          },
          "metadata": {
            "tags": [],
            "needs_background": "light"
          }
        }
      ]
    },
    {
      "cell_type": "markdown",
      "metadata": {
        "id": "PFVzbnE9S4yB"
      },
      "source": [
        "# Creating train and test dataset"
      ]
    },
    {
      "cell_type": "code",
      "metadata": {
        "id": "Vs-yxBwgS6LD"
      },
      "source": [
        "msk = np.random.rand(len(df)) < 0.8\n",
        "train = cdf[msk]\n",
        "test = cdf[~msk]"
      ],
      "execution_count": 8,
      "outputs": []
    },
    {
      "cell_type": "markdown",
      "metadata": {
        "id": "FyasST-CTgYp"
      },
      "source": [
        "# Train data distribution"
      ]
    },
    {
      "cell_type": "code",
      "metadata": {
        "colab": {
          "base_uri": "https://localhost:8080/",
          "height": 280
        },
        "id": "Z6WOydK7Tmoz",
        "outputId": "70221f2a-8e95-43a6-a1f5-1ac43217bda0"
      },
      "source": [
        "plt.scatter(train.ENGINESIZE, train.CO2EMISSIONS, color='blue')\n",
        "plt.xlabel(\"Engine size\")\n",
        "plt.ylabel(\"Emission\")\n",
        "plt.show()"
      ],
      "execution_count": 9,
      "outputs": [
        {
          "output_type": "display_data",
          "data": {
            "image/png": "[encoded data removed]",
            "text/plain": [
              "<Figure size 432x288 with 1 Axes>"
            ]
          },
          "metadata": {
            "tags": [],
            "needs_background": "light"
          }
        }
      ]
    },
    {
      "cell_type": "markdown",
      "metadata": {
        "id": "g0TXP_1fUAHK"
      },
      "source": [
        "# Multiple Regression Model"
      ]
    },
    {
      "cell_type": "code",
      "metadata": {
        "colab": {
          "base_uri": "https://localhost:8080/"
        },
        "id": "XiqpiiNjUD1S",
        "outputId": "31bbc1c3-26a2-4bb0-c564-474cd9f97104"
      },
      "source": [
        "from sklearn import linear_model\n",
        "regr = linear_model.LinearRegression()\n",
        "x = np.asanyarray(train[['ENGINESIZE','CYLINDERS','FUELCONSUMPTION_COMB']])\n",
        "y = np.asanyarray(train[['CO2EMISSIONS']])\n",
        "regr.fit(x, y)\n",
        "print('Coefficients: ', regr.coef_)"
      ],
      "execution_count": 15,
      "outputs": [
        {
          "output_type": "stream",
          "text": [
            "Coefficients:  [[9.54912251 8.40443801 9.64843241]]\n"
          ],
          "name": "stdout"
        }
      ]
    },
    {
      "cell_type": "markdown",
      "metadata": {
        "id": "LoOWYlRiVbJ0"
      },
      "source": [
        "# Ordinary Least Squares (OLS)\n",
        "## Prediction"
      ]
    },
    {
      "cell_type": "code",
      "metadata": {
        "colab": {
          "base_uri": "https://localhost:8080/"
        },
        "id": "ypFrhZ3SVj3z",
        "outputId": "81732bbe-b4b0-4573-8098-9e84fd1f57d7"
      },
      "source": [
        "y_hat = regr.predict(test[['ENGINESIZE','CYLINDERS','FUELCONSUMPTION_COMB']])\n",
        "x = np.asanyarray(test[['ENGINESIZE','CYLINDERS','FUELCONSUMPTION_COMB']])\n",
        "y = np.asanyarray(test[['CO2EMISSIONS']])\n",
        "print(\"Residual sum of squares: %.2f\" % np.mean((y_hat - y) ** 2))\n",
        "print('Variance score: %.2f' % regr.score(x, y))"
      ],
      "execution_count": 16,
      "outputs": [
        {
          "output_type": "stream",
          "text": [
            "Residual sum of squares: 497.90\n",
            "Variance score: 0.87\n"
          ],
          "name": "stdout"
        }
      ]
    },
    {
      "cell_type": "markdown",
      "metadata": {
        "id": "g5U3En4OXNBr"
      },
      "source": [
        "![Screenshot 2021-08-01 013053.png](data:image/png;base64,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)"
      ]
    },
    {
      "cell_type": "markdown",
      "metadata": {
        "id": "O3fkdpDJYHb7"
      },
      "source": [
        "Using FUEL CONSUMPTION in CITY__   and   FUEL CONSUMPTION in HWY__ instead of FUELCONSUMPTION_COMB."
      ]
    },
    {
      "cell_type": "code",
      "metadata": {
        "colab": {
          "base_uri": "https://localhost:8080/"
        },
        "id": "sxy66metYCLr",
        "outputId": "01ac870b-f4c3-4031-a1b7-c6f239474642"
      },
      "source": [
        "regr = linear_model.LinearRegression()\n",
        "x = np.asanyarray(train[['ENGINESIZE','CYLINDERS','FUELCONSUMPTION_CITY','FUELCONSUMPTION_HWY']])\n",
        "y = np.asanyarray(train[['CO2EMISSIONS']])\n",
        "regr.fit(x, y)\n",
        "print('Coefficicents: ', regr.coef_)"
      ],
      "execution_count": 18,
      "outputs": [
        {
          "output_type": "stream",
          "text": [
            "Coefficicents:  [[9.58915357 8.01625904 6.31464092 3.03260148]]\n"
          ],
          "name": "stdout"
        }
      ]
    },
    {
      "cell_type": "code",
      "metadata": {
        "colab": {
          "base_uri": "https://localhost:8080/"
        },
        "id": "LeFSL9A4Zrhc",
        "outputId": "6392f361-d18a-44fe-add0-7c41a878e948"
      },
      "source": [
        "y_hat = regr.predict(test[['ENGINESIZE','CYLINDERS','FUELCONSUMPTION_CITY','FUELCONSUMPTION_HWY']])\n",
        "x = np.asanyarray(test[['ENGINESIZE','CYLINDERS','FUELCONSUMPTION_CITY','FUELCONSUMPTION_HWY']])\n",
        "y = np.asanyarray(test[['CO2EMISSIONS']])\n",
        "print(\"Residual sum of squares: %.2f\" % np.mean((y_hat - y) ** 2))\n",
        "print('Variance score: %.2f' % regr.score(x, y))"
      ],
      "execution_count": 20,
      "outputs": [
        {
          "output_type": "stream",
          "text": [
            "Residual sum of squares: 499.21\n",
            "Variance score: 0.87\n"
          ],
          "name": "stdout"
        }
      ]
    }
  ]
}